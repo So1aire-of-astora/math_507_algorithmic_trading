{
 "cells": [
  {
   "cell_type": "markdown",
   "metadata": {},
   "source": [
    "# MATH 507 HW2\n",
    "### Paul Zhang\n",
    "## 0. Preperation"
   ]
  },
  {
   "cell_type": "code",
   "execution_count": 1,
   "metadata": {},
   "outputs": [],
   "source": [
    "import sys\n",
    "import numpy as np\n",
    "import pandas as pd\n",
    "import matplotlib\n",
    "import matplotlib.pyplot as plt\n",
    "import yfinance as yf"
   ]
  },
  {
   "cell_type": "code",
   "execution_count": 2,
   "metadata": {},
   "outputs": [
    {
     "name": "stdout",
     "output_type": "stream",
     "text": [
      "Env info\n",
      "Python=3.11.9 (main, Apr 19 2024, 16:48:06) [GCC 11.2.0]\n",
      "numpy=1.26.4\n",
      "pandas=2.2.2\n",
      "matplotlib=3.9.2\n",
      "yfinance=0.2.44\n"
     ]
    }
   ],
   "source": [
    "print(\"Env info\\nPython={}\\nnumpy={}\\npandas={}\\nmatplotlib={}\\nyfinance={}\".format(sys.version, \\\n",
    "        np.__version__, pd.__version__, matplotlib.__version__, yf.__version__))"
   ]
  }
 ],
 "metadata": {
  "kernelspec": {
   "display_name": "math_general",
   "language": "python",
   "name": "python3"
  },
  "language_info": {
   "codemirror_mode": {
    "name": "ipython",
    "version": 3
   },
   "file_extension": ".py",
   "mimetype": "text/x-python",
   "name": "python",
   "nbconvert_exporter": "python",
   "pygments_lexer": "ipython3",
   "version": "3.11.9"
  }
 },
 "nbformat": 4,
 "nbformat_minor": 2
}
